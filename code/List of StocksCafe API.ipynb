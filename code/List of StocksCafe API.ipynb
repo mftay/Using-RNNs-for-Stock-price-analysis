{
 "cells": [
  {
   "cell_type": "markdown",
   "metadata": {},
   "source": [
    "### Capstone\n",
    "Problem statement: to identify undervalued stocks based on financial ratios, building models based on price alone, price and company fundamentals, to assess which performance is better\n",
    "\n",
    "### Description of Notebook\n",
    "Data Collection:\n",
    "- Stock Prices, 2010 - 2019, daily snapshots\n",
    "- Financial Info & Valuation Ratios, weekly snapshots as they do not change often"
   ]
  },
  {
   "cell_type": "markdown",
   "metadata": {},
   "source": [
    "[Getting Financial ratios](#fin_ratio)\n",
    "\n",
    "[Getting Valuation ratios](#val_ratio)\n",
    "\n",
    "[Getting Stock Prices](#price)\n",
    "\n",
    "[Getting Dividends](#div)"
   ]
  },
  {
   "cell_type": "markdown",
   "metadata": {},
   "source": [
    "### Imports"
   ]
  },
  {
   "cell_type": "code",
   "execution_count": 1,
   "metadata": {},
   "outputs": [],
   "source": [
    "import os\n",
    "os.chdir('../')\n",
    "from stockscafe.StocksCafeApi import StocksCafeApi\n",
    "import requests\n",
    "import datetime\n",
    "import pandas as pd\n",
    "import numpy as np\n",
    "\n",
    "pd.set_option('display.max_columns', 500)  #view all columns"
   ]
  },
  {
   "cell_type": "markdown",
   "metadata": {},
   "source": [
    "### Create StocksCafe object"
   ]
  },
  {
   "cell_type": "code",
   "execution_count": 4,
   "metadata": {},
   "outputs": [],
   "source": [
    "sc = StocksCafeApi()"
   ]
  },
  {
   "cell_type": "markdown",
   "metadata": {},
   "source": [
    "### Initialise API calls"
   ]
  },
  {
   "cell_type": "code",
   "execution_count": 3,
   "metadata": {},
   "outputs": [],
   "source": [
    "# insert your own api key and username for StocksCafe\n",
    "domain = 'https://api.stocks.cafe'\n",
    "api_key = ''\n",
    "username = ''\n",
    "val = 'valuation2'\n",
    "fin = 'financial2'\n",
    "#div_sum = 'dividends_summary'\n",
    "div = 'dividends'\n",
    "div_date = 'dividends_by_date'\n",
    "exchange = 'USX'\n",
    "stock = 'MSFT'\n",
    "#list_stock = ['ORCL', 'GOOG', 'SAP','IBM'] \n",
    "date = '2012-04-13' \n",
    "start_date = '2014-12-31'\n",
    "end_date = '2012-06-30'"
   ]
  },
  {
   "cell_type": "code",
   "execution_count": null,
   "metadata": {},
   "outputs": [],
   "source": [
    "# valuation data\n",
    "#res = requests.get(f'{domain}/stock.json?l={val}&exchange={exchange}&symbol={stock}&api_user_key={api_key}&api_user={username}&date={date}') \n",
    "\n",
    "# 6 years of financial data from 2014 to 2019\n",
    "#res_fin = requests.get(f'{domain}/stock.json?l={fin}&exchange={exchange}&symbol={stock}&api_user_key={api_key}&api_user={username}&date={date}') \n",
    "\n",
    "# dividend info\n",
    "#res_div_sum = requests.get(f'{domain}/stock.json?l={div_sum}&exchange={exchange}&symbol={stock}&api_user_key={api_key}&api_user={username}') \n",
    "#res_div = requests.get(f'{domain}/stock.json?l={div}&exchange={exchange}&symbol={stock}&api_user_key={api_key}&api_user={username}')\n",
    "#res_div_date = requests.get(f'{domain}/stock.json?l={div_date}&exchange={exchange}&symbol={stock}&api_user_key={api_key}&api_user={username}&start_date={start_date}&end_date={end_date}')\n",
    "\n",
    "# basic info of stock\n",
    "#res_basic = requests.get(f'{domain}/stock.json?l=basic_info&exchange={exchange}&symbol={stock}&api_user={username}&api_user_key={api_key}')"
   ]
  },
  {
   "cell_type": "code",
   "execution_count": null,
   "metadata": {},
   "outputs": [],
   "source": [
    "res_div_date.json()['dividend_list']"
   ]
  },
  {
   "cell_type": "code",
   "execution_count": null,
   "metadata": {},
   "outputs": [],
   "source": [
    "exchange = 'USX'\n",
    "symbol = 'PYPL'\n",
    "master_stock_price = pd.DataFrame()\n",
    "for stock in list_stock:\n",
    "    results_1 = sc.getPrices(exchange, stock, 1000, page = 1)"
   ]
  },
  {
   "cell_type": "code",
   "execution_count": null,
   "metadata": {},
   "outputs": [],
   "source": [
    "price_msft = pd.read_csv('stock_priceMSFT.csv')\n",
    "price_msft['datetimeobj'] = pd.to_datetime(price_msft['date'])\n",
    "price_msft['day'] = pd.DatetimeIndex(price_msft['date']).weekday\n",
    "fridays_2019 = price_msft[price_msft['day'] == 4]['date']\n",
    "list_2019 = fridays_2019.values.tolist()[500:516]         # to run on Sat. check what the financial ratios are first. \n",
    "list_2019"
   ]
  },
  {
   "cell_type": "markdown",
   "metadata": {},
   "source": [
    "<a id='val_ratio'></a>"
   ]
  },
  {
   "cell_type": "code",
   "execution_count": null,
   "metadata": {},
   "outputs": [],
   "source": [
    "completeval"
   ]
  },
  {
   "cell_type": "code",
   "execution_count": null,
   "metadata": {},
   "outputs": [],
   "source": [
    "res.json()"
   ]
  },
  {
   "cell_type": "code",
   "execution_count": null,
   "metadata": {},
   "outputs": [],
   "source": [
    "# getting valuation ratios for a list of dates \n",
    "def getval_year(listofdates):\n",
    "    full19 = pd.DataFrame()\n",
    "    for date in listofdates:\n",
    "        res_val = requests.get(f'{domain}/stock.json?l={val}&exchange={exchange}&symbol={stock}&api_user_key={api_key}&api_user={username}&date={date}') \n",
    "        current_dict = res_val.json()\n",
    "        valuation19_week1 = pd.DataFrame(current_dict['data'])\n",
    "        valuation19 = valuation19_week1[['week_52_high', 'week_52_low', 'week_52_median','current_value']]\n",
    "        result = [valuation19_week1.loc[0,'date']]\n",
    "        row = valuation19.shape[0]\n",
    "\n",
    "        for i in range(row):\n",
    "            for element in valuation19.iloc[i,:]:   # creating list of a financial ratio row\n",
    "                result.append(element)\n",
    "        completeval = pd.DataFrame(result).transpose()\n",
    "        #completeval.columns = colname\n",
    "        full19 = full19.append(completeval)\n",
    "        full19.to_csv('MSFTval19_part6.csv', index = False)"
   ]
  },
  {
   "cell_type": "code",
   "execution_count": null,
   "metadata": {},
   "outputs": [],
   "source": [
    "getval_year(list_2019) # till june 2019. do remaining tmr"
   ]
  },
  {
   "cell_type": "code",
   "execution_count": null,
   "metadata": {},
   "outputs": [],
   "source": [
    "current_dict = res_val.json()\n",
    "valuation19_31Jan = pd.DataFrame(current_dict['data'])\n",
    "#valuation19_2Q = pd.DataFrame(current_dict['data']) #get 2nd quarter. change name\n",
    "#valuation19_3Q = pd.DataFrame(current_dict['data'])\n",
    "#valuation19_4Q = pd.DataFrame(current_dict['data'])\n",
    "#valuation19_2Q[['date','short_name','week_52_high', 'week_52_low', 'week_52_median','current_value']]"
   ]
  },
  {
   "cell_type": "code",
   "execution_count": null,
   "metadata": {},
   "outputs": [],
   "source": []
  },
  {
   "cell_type": "code",
   "execution_count": null,
   "metadata": {},
   "outputs": [],
   "source": [
    "colname = ['Date','Cash/Share_year_high', 'Cash/Share_year_low', 'Cash/Share_year_median', 'Cash/Share', \n",
    "           'Rev/Assets_year_high', 'Rev/Assets_year_low', 'Rev/Assets_median', 'Rev/Assets',\n",
    "           'P/T.BV_year_high','P/T.BV_year_low', 'P/T.BV_year_median', 'P/T.BV',\n",
    "           'SharesO/s_year_high', 'SharesO/s_year_low', 'SharesO/s_median', 'SharesO/s',\n",
    "           'PB_year_high', 'PB_year_low', 'PB_median', 'PB',\n",
    "           'Earnings_Growth_year_high', 'Earnings_Growth_year_low', 'Earnings_Growth_median', 'Earnings_Growth',\n",
    "           'MarkCap_year_high','MarkCap_year_low', 'MarkCap_median', 'MarkCap',\n",
    "           'CF/Share_year_high', 'CF/Share_year_low', 'CF/Share_median', 'CF/Share',\n",
    "           'PE_year_high', 'PE_year_low', 'PE_median', 'PE',\n",
    "           'PEG_year_high', 'PEG_year_low', 'PEG_median', 'PEG',\n",
    "           'BV_year_high', 'BV_year_low', 'BV_median', 'BV'      \n",
    "          ]\n",
    "#valuation19_feb[['short_name','week_52_high', 'week_52_low', 'week_52_median','current_value']]"
   ]
  },
  {
   "cell_type": "code",
   "execution_count": null,
   "metadata": {},
   "outputs": [],
   "source": [
    "# feb\n",
    "valuation19 = valuation19_feb[['week_52_high', 'week_52_low', 'week_52_median','current_value']]\n",
    "result = [valuation19_feb.loc[0,'date']]\n",
    "row = valuation19.shape[0]\n",
    "for i in range(row):\n",
    "    for element in valuation19.iloc[i,:]:   # creating list of a financial ratio row\n",
    "        result.append(element)\n",
    "        \n",
    "completeval = pd.DataFrame(result).transpose()\n",
    "\n",
    "#completeval.columns = colname\n",
    "completeval.to_csv('MSFTval19_dec.csv', index = False)"
   ]
  },
  {
   "cell_type": "code",
   "execution_count": null,
   "metadata": {},
   "outputs": [],
   "source": [
    "valuation19 = valuation19_feb[['week_52_high', 'week_52_low', 'week_52_median','current_value']]\n",
    "result = [valuation19.loc[0,'date']]\n",
    "row = valuation19.shape[0]\n",
    "for i in range(row):\n",
    "    for element in valuation19.iloc[i,:]:   # creating list of a financial ratio row\n",
    "        result.append(element)\n",
    "        \n",
    "completeval = pd.DataFrame(result).transpose()\n",
    "completeval.columns = colname\n",
    "completeval.to_csv('MSFTval19_feb.csv', index = False)\n",
    "\n",
    "# ratio for 2nd quarter\n",
    "valuation19 = valuation19_2Q[['week_52_high', 'week_52_low', 'week_52_median','current_value']]\n",
    "result = [valuation19_2Q.loc[0,'date']]\n",
    "row = valuation19.shape[0]\n",
    "for i in range(row):\n",
    "    for element in valuation19.iloc[i,:]:   # creating list of a financial ratio row\n",
    "        result.append(element)\n",
    "        \n",
    "completeval_2Q = pd.DataFrame(result).transpose()\n",
    "#completeval_2Q.columns = colname\n",
    "completeval_2Q.to_csv('MSFTval19_2Q.csv', index = False)\n",
    "\n",
    "# ratio for 3rd quarter\n",
    "valuation19 = valuation19_3Q[['week_52_high', 'week_52_low', 'week_52_median','current_value']]\n",
    "result = [valuation19_3Q.loc[0,'date']]\n",
    "row = valuation19.shape[0]\n",
    "for i in range(row):\n",
    "    for element in valuation19.iloc[i,:]:   # creating list of a financial ratio row\n",
    "        result.append(element)\n",
    "        \n",
    "completeval_3Q = pd.DataFrame(result).transpose()\n",
    "#completeval_2Q.columns = colname\n",
    "completeval_3Q.to_csv('MSFTval19_3Q.csv', index = False)\n",
    "\n",
    "# ratio for 4th quarter\n",
    "valuation19 = valuation19_4Q[['week_52_high', 'week_52_low', 'week_52_median','current_value']]\n",
    "result = [valuation19_4Q.loc[0,'date']]\n",
    "row = valuation19.shape[0]\n",
    "for i in range(row):\n",
    "    for element in valuation19.iloc[i,:]:   # creating list of a financial ratio row\n",
    "        result.append(element)\n",
    "        \n",
    "completeval_4Q = pd.DataFrame(result).transpose()\n",
    "#completeval_2Q.columns = colname\n",
    "completeval_4Q.to_csv('MSFTval19_4Q.csv', index = False)"
   ]
  },
  {
   "cell_type": "markdown",
   "metadata": {},
   "source": [
    "<a id='fin_ratio'></a>"
   ]
  },
  {
   "cell_type": "markdown",
   "metadata": {},
   "source": [
    "### Get Financial ratios json structure"
   ]
  },
  {
   "cell_type": "code",
   "execution_count": null,
   "metadata": {},
   "outputs": [],
   "source": [
    "date = '2016-01-02'\n",
    "stock = 'PYPL'\n",
    "exchange = 'USX'\n",
    "#res_fin = requests.get(f'{domain}/stock.json?l={fin}&exchange={exchange}&symbol={stock}&api_user_key={api_key}&api_user={username}&date={date}') \n",
    "res_fin_nodate = requests.get(f'{domain}/stock.json?l={fin}&exchange={exchange}&symbol={stock}&api_user_key={api_key}&api_user={username}')\n",
    "current_list_fin = res_fin_nodate.json()['data']"
   ]
  },
  {
   "cell_type": "code",
   "execution_count": null,
   "metadata": {},
   "outputs": [],
   "source": [
    "len(input)"
   ]
  },
  {
   "cell_type": "code",
   "execution_count": null,
   "metadata": {},
   "outputs": [],
   "source": [
    "df_fin = pd.DataFrame(input[1]['values'])\n",
    "ratio_name = input[0]['short_name']\n",
    "df_fin.rename(columns = {'value' : ratio_name},inplace = True)\n",
    "#df_fin_select = df_fin[['date',ratio_name]]\n",
    "input[1]"
   ]
  },
  {
   "cell_type": "code",
   "execution_count": null,
   "metadata": {},
   "outputs": [],
   "source": [
    "input = current_list_fin\n",
    "\n",
    "def finratio(input):\n",
    "    df_fin = pd.DataFrame(input[1]['values'])\n",
    "    ratio_name = input[1]['short_name']\n",
    "    df_fin.rename(columns = {'value' : ratio_name},inplace = True)\n",
    "    df_fin_select = df_fin[['date',ratio_name]]\n",
    "     \n",
    "    for ratio in range(2, len(res_fin_nodate.json()['data'])):    # 28 financial ratios - getting the yearly values \n",
    "        df_fin_ratio = pd.DataFrame(input[ratio]['values'])\n",
    "        ratio_name_1 = input[ratio]['short_name']\n",
    "        df_fin_ratio.rename(columns = {'value' : ratio_name_1},inplace = True)\n",
    "        \n",
    "        try:\n",
    "            df_fin_1_select = df_fin_ratio[['date',ratio_name_1]]\n",
    "        except:\n",
    "            pass\n",
    "        \n",
    "        df_fin_select =pd.merge(df_fin_select,df_fin_1_select, how='left', on='date')\n",
    "            \n",
    "    return df_fin_select\n",
    "\n",
    "# ALTERNATIVE filling up of dataframe.\n",
    "\n",
    "#print(res_fin.json()['data'])\n",
    "# initialise empty dataframe\n",
    "#dates = ['2014-12-31', '2015-12-31', '2016-12-31', '2017-12-31', '2018-12-31', '2019-12-31']\n",
    "#alt = pd.DataFrame(index = dates)\n",
    "#current_list_fin[3]['values']\n",
    "#alt[current_list_fin[0]['short_name']] ="
   ]
  },
  {
   "cell_type": "code",
   "execution_count": null,
   "metadata": {},
   "outputs": [],
   "source": [
    "df_fin_select"
   ]
  },
  {
   "cell_type": "code",
   "execution_count": null,
   "metadata": {},
   "outputs": [],
   "source": [
    "# function to extract into dataframe all 28 financial ratios from .json\n",
    "def finratio(input):\n",
    "    df_fin = pd.DataFrame(input[0]['values'])\n",
    "    ratio_name = input[0]['short_name']\n",
    "    df_fin.rename(columns = {'value' : ratio_name},inplace = True)\n",
    "    df_fin_select = df_fin[['date',ratio_name]]\n",
    "     \n",
    "    for ratio in range(1, len(res_fin.json()['data'])):    # 28 financial ratios - getting the yearly values \n",
    "        df_fin_ratio = pd.DataFrame(input[ratio]['values'])\n",
    "        ratio_name_1 = input[ratio]['short_name']\n",
    "        df_fin_ratio.rename(columns = {'value' : ratio_name_1},inplace = True)\n",
    "        \n",
    "        try:\n",
    "            df_fin_1_select = df_fin_ratio[['date',ratio_name_1]]\n",
    "        except:\n",
    "            pass\n",
    "        \n",
    "        df_fin_select =pd.merge(df_fin_select,df_fin_1_select, how='left', on='date')\n",
    "            \n",
    "    return df_fin_select"
   ]
  },
  {
   "cell_type": "code",
   "execution_count": null,
   "metadata": {},
   "outputs": [],
   "source": [
    "list_stock = ['MSFT', 'TXN','PYPL'] \n",
    "\n",
    "for stock in list_stock:\n",
    "    res_fin = requests.get(f'{domain}/stock.json?l={fin}&exchange={exchange}&symbol={stock}&api_user_key={api_key}&api_user={username}') \n",
    "    current_list_fin = res_fin.json()['data']\n",
    "    processed_fin = finratio(current_list_fin)\n",
    "    processed_fin['stock'] = stock\n",
    "    processed_fin.to_csv('financialratios'+str(stock)+'.csv', index = False)\n",
    "    \n",
    "processed_fin.shape"
   ]
  },
  {
   "cell_type": "code",
   "execution_count": null,
   "metadata": {},
   "outputs": [],
   "source": [
    "# drop T.Cash_y, T.EV_y, Net Income Cont Op_y, create new columns of 0 or NA(?) for Working Cap/Share, Current Ratio, Quick Ratio\n",
    "#processed_fin.drop(columns = ['T.Cash_y', 'T.EV_y', 'Net Income Cont Op_y', ], inplace = True)\n",
    "processed_fin['Current Ratio'] = np.zeros(6)   \n",
    "processed_fin['Quick Ratio'] = np.zeros(6)\n",
    "processed_fin['Working Cap/Share'] = np.zeros(6)\n",
    "\n",
    "processed_fin"
   ]
  },
  {
   "cell_type": "markdown",
   "metadata": {},
   "source": [
    "### Saving Financial Ratios into .csv files"
   ]
  },
  {
   "cell_type": "code",
   "execution_count": null,
   "metadata": {},
   "outputs": [],
   "source": [
    "processed_fin.to_csv('financialratios'+str(list_stock[1])+'.csv')"
   ]
  },
  {
   "cell_type": "markdown",
   "metadata": {},
   "source": [
    "<a id='price'></a>"
   ]
  },
  {
   "cell_type": "markdown",
   "metadata": {},
   "source": [
    "### Get Recent Prices (Includes high, low, open, close etc)"
   ]
  },
  {
   "cell_type": "code",
   "execution_count": 13,
   "metadata": {},
   "outputs": [],
   "source": [
    "#test case\n",
    "list_stock = ['GOOG', 'SAP','IBM'] \n",
    "exchange = 'USX'\n",
    "stock = 'ORCL'\n",
    "master_stock_price = pd.DataFrame()\n",
    "results_1 = sc.getPrices(exchange, stock, 1000, page = 1)"
   ]
  },
  {
   "cell_type": "code",
   "execution_count": 7,
   "metadata": {},
   "outputs": [
    {
     "data": {
      "text/plain": [
       "{'result': 'Successful',\n",
       " 'result_boolean': True,\n",
       " 'total_pages': 9,\n",
       " 'eod_list':            date volume_string  change  change_percent    volume change_string  \\\n",
       " 0    2020-03-05    15,787,908   -2.54       -5.025722  15787908        -2.540   \n",
       " 1    2020-03-04    14,813,717    1.69        3.459570  14813717         1.690   \n",
       " 2    2020-03-03    21,830,505   -2.05       -4.027505  21830505        -2.050   \n",
       " 3    2020-03-02    17,328,615    1.44        2.911444  17328615         1.440   \n",
       " 4    2020-02-28    24,427,058   -1.32       -2.599449  24427058        -1.320   \n",
       " ..          ...           ...     ...             ...       ...           ...   \n",
       " 995  2016-03-22    11,970,527   -0.23       -0.552752  11970527        -0.230   \n",
       " 996  2016-03-21    17,275,055    0.13        0.313404  17275055         0.130   \n",
       " 997  2016-03-18    34,354,028    0.87        2.142329  34354028         0.870   \n",
       " 998  2016-03-17    22,163,514    0.39        0.969667  22163514         0.390   \n",
       " 999  2016-03-16    49,082,261    1.48        3.820341  49082261         1.480   \n",
       " \n",
       "     change_percent_string    high     low   human_date currency  close   open  \n",
       " 0                  -5.03%  49.680  47.745   5 Mar 2020      USD  48.00  49.23  \n",
       " 1                   3.46%  50.585  48.830   4 Mar 2020      USD  50.54  49.85  \n",
       " 2                  -4.03%  51.840  48.250   3 Mar 2020      USD  48.85  50.62  \n",
       " 3                   2.91%  50.900  48.670   2 Mar 2020      USD  50.90  49.73  \n",
       " 4                  -2.60%  49.890  47.900  28 Feb 2020      USD  49.46  49.24  \n",
       " ..                    ...     ...     ...          ...      ...    ...    ...  \n",
       " 995                -0.55%  41.750  41.190  22 Mar 2016      USD  41.38  41.32  \n",
       " 996                 0.31%  42.000  41.370  21 Mar 2016      USD  41.61  41.42  \n",
       " 997                 2.14%  41.490  40.650  18 Mar 2016      USD  41.48  40.87  \n",
       " 998                 0.97%  40.960  40.070  17 Mar 2016      USD  40.61  40.15  \n",
       " 999                 3.82%  40.945  39.530  16 Mar 2016      USD  40.22  39.55  \n",
       " \n",
       " [1000 rows x 13 columns],\n",
       " 'latency_ms': 2096,\n",
       " 'timestamp': 1583480489}"
      ]
     },
     "execution_count": 7,
     "metadata": {},
     "output_type": "execute_result"
    }
   ],
   "source": [
    "results_1['total_pages']"
   ]
  },
  {
   "cell_type": "code",
   "execution_count": 11,
   "metadata": {},
   "outputs": [],
   "source": [
    "# getting 4 pages of stock info\n",
    "def multiplestockprices(listofstock):\n",
    "    exchange = 'USX'\n",
    "    for stock in listofstock:\n",
    "        master_stock_price = pd.DataFrame()\n",
    "        results_1 = sc.getPrices(exchange, stock, 1000, page = 1)\n",
    "        page_1 = results_1['eod_list']\n",
    "        results_2 = sc.getPrices(exchange, stock, 1000, page = 2)\n",
    "        page_2 = results_2['eod_list']\n",
    "        stock_price12 = page_1.append(page_2)\n",
    "\n",
    "        results_3 = sc.getPrices(exchange, stock, 1000, page = 3)\n",
    "        page_3 = results_3['eod_list']\n",
    "        results_4 = sc.getPrices(exchange, stock, 1000, page = 4)\n",
    "        page_4 = results_4['eod_list']\n",
    "        stock_price34 = page_3.append(page_4)\n",
    "        stock_price =stock_price12.append(stock_price34) \n",
    "\n",
    "        stock_price['stock'] = stock\n",
    "        #master_stock_price = master_stock_price.append(stock_price)\n",
    "        stock_price.to_csv('stock_price'+str(stock)+'.csv', index = False)"
   ]
  },
  {
   "cell_type": "code",
   "execution_count": 14,
   "metadata": {},
   "outputs": [],
   "source": [
    "multiplestockprices(list_stock)\n"
   ]
  },
  {
   "cell_type": "code",
   "execution_count": null,
   "metadata": {},
   "outputs": [],
   "source": [
    "# looping for multiple stocks\n",
    "master_stock_price = pd.DataFrame()\n",
    "for stock in list_stock:\n",
    "    results_1 = sc.getPrices(exchange, stock, 1000, page = 1)\n",
    "    page_1 = results_1['eod_list']\n",
    "    results_2 = sc.getPrices(exchange, stock, 1000, page = 2)\n",
    "    page_2 = results_2['eod_list']\n",
    "    stock_price = page_1.append(page_2)\n",
    "    stock_price['stock'] = stock\n",
    "    master_stock_price = master_stock_price.append(stock_price)\n",
    "    stock_price.to_csv('stock_price'+str(stock)+'.csv', index = False)"
   ]
  },
  {
   "cell_type": "markdown",
   "metadata": {},
   "source": [
    "### Number of pages of price results"
   ]
  },
  {
   "cell_type": "code",
   "execution_count": null,
   "metadata": {},
   "outputs": [],
   "source": [
    "results_1['total_pages'] \n",
    "check_results = sc.getPrices(exchange, stock, 1000, 3)"
   ]
  },
  {
   "cell_type": "code",
   "execution_count": null,
   "metadata": {},
   "outputs": [],
   "source": [
    "results_1"
   ]
  },
  {
   "cell_type": "markdown",
   "metadata": {},
   "source": [
    "If there more than 1 page, you can call getPrices() multiple times with different page number."
   ]
  },
  {
   "cell_type": "code",
   "execution_count": null,
   "metadata": {
    "scrolled": true
   },
   "outputs": [],
   "source": [
    "if results['total_pages'] > 1:\n",
    "    results = sc.getPrices(exchange, symbol, 10, page = 461)\n",
    "results['eod_list']"
   ]
  },
  {
   "cell_type": "markdown",
   "metadata": {},
   "source": [
    "### Financial Info of Stock"
   ]
  },
  {
   "cell_type": "code",
   "execution_count": null,
   "metadata": {},
   "outputs": [],
   "source": [
    "exchange = 'SGX'\n",
    "symbol = 'D05'\n",
    "results_fina = sc.getFinancial(exchange, symbol, 1000, page = 1)\n",
    "results_fin['eod_list']"
   ]
  },
  {
   "cell_type": "markdown",
   "metadata": {},
   "source": [
    "<a id='div'></a>"
   ]
  },
  {
   "cell_type": "markdown",
   "metadata": {},
   "source": [
    "### Collected Dividends"
   ]
  },
  {
   "cell_type": "code",
   "execution_count": null,
   "metadata": {},
   "outputs": [],
   "source": [
    "# div_sum_dict = res_div_sum.json()['dividend_list'] # yearly dividend captured, with individual dividends. not useful.\n",
    "div_dict = res_div.json()['dividend_list']   # each dividend captured"
   ]
  },
  {
   "cell_type": "code",
   "execution_count": null,
   "metadata": {},
   "outputs": [],
   "source": [
    "# no dividends for paypal \n",
    "exchange = 'USX'\n",
    "stock = 'TXN'\n",
    "start_date = '2014-01-01'\n",
    "end_date = '2015-31-12'\n",
    "\n",
    "#res_div = requests.get(f'{domain}/stock.json?l={div_date}&exchange={exchange}&symbol={stock}&api_user_key={api_key}&api_user={username}&start_date={start_date}&end_date={end_date}')\n",
    "\n",
    "res = requests.get(f'{domain}/stock.json?l={div}&exchange={exchange}&symbol={stock}&api_user_key={api_key}&api_user={username}') \n",
    "res_div = res.json()['dividend_list']\n",
    "df_div = pd.DataFrame(res_div)\n",
    "df_div['stock'] = stock\n"
   ]
  },
  {
   "cell_type": "code",
   "execution_count": null,
   "metadata": {},
   "outputs": [],
   "source": [
    "df_div"
   ]
  },
  {
   "cell_type": "code",
   "execution_count": null,
   "metadata": {},
   "outputs": [],
   "source": [
    "df_div.to_csv('completedivTXN.csv', index = False)"
   ]
  },
  {
   "cell_type": "code",
   "execution_count": null,
   "metadata": {},
   "outputs": [],
   "source": [
    "df_div_full = pd.DataFrame()\n",
    "\n",
    "for stock in list_stock:\n",
    "\n",
    "    res = requests.get(f'{domain}/stock.json?l={div}&exchange={exchange}&symbol={stock}&api_user_key={api_key}&api_user={username}') \n",
    "    res_div = res.json()['dividend_list']\n",
    "    df_div = pd.DataFrame(res_div)\n",
    "    df_div['stock'] = stock\n",
    "    df_div_full = df_div_full.append(df_div)\n",
    "\n",
    "    #df_div_full.to_csv('completediv.csv', index = False)\n",
    "        \n",
    "df_div_full"
   ]
  },
  {
   "cell_type": "code",
   "execution_count": null,
   "metadata": {},
   "outputs": [],
   "source": [
    "df = pd.DataFrame(div_sum_dict) # drop _string\n",
    "df[['total_value', 'year', 'dividend_yield', 'data']]"
   ]
  },
  {
   "cell_type": "code",
   "execution_count": null,
   "metadata": {},
   "outputs": [],
   "source": [
    "pd.DataFrame(df['data'][4])"
   ]
  },
  {
   "cell_type": "markdown",
   "metadata": {},
   "source": [
    "### Combining info for a single stock"
   ]
  },
  {
   "cell_type": "code",
   "execution_count": null,
   "metadata": {},
   "outputs": [],
   "source": [
    "val_msft = pd.read_csv('MSFTval19.csv')\n",
    "div_msft = pd.read_csv('completedivMSFT.csv')\n",
    "price_msft = pd.read_csv('stock_priceMSFT.csv')\n",
    "fin_msft = pd.read_csv('financialratiosMSFT.csv')\n",
    "fin_msft.drop(columns = ['Unnamed: 0'], inplace = True)\n",
    "price_msft.drop(columns = ['volume_string', 'change_string','change_percent_string','currency'], inplace = True)\n",
    "price_msft['date'] = pd.to_datetime(price_msft['date'])\n",
    "fin_msft['date'] = pd.to_datetime(fin_msft['date'])\n",
    "val_msft['Date'] = pd.to_datetime(val_msft['Date'])\n",
    "#price_msft.set_index('date', inplace = True)\n",
    "#fin_msft.set_index('date', inplace = True)\n",
    "#val_msft.set_index('Date', inplace = True)"
   ]
  },
  {
   "cell_type": "code",
   "execution_count": null,
   "metadata": {},
   "outputs": [],
   "source": [
    "#print(price_msft.dtypes)\n",
    "price_msft['month'] = pd.DatetimeIndex(price_msft['date']).month\n",
    "price_msft"
   ]
  },
  {
   "cell_type": "code",
   "execution_count": null,
   "metadata": {},
   "outputs": [],
   "source": [
    "msft = pd.merge(price_msft, val_msft, left_on = 'date', right_on = 'Date')\n",
    "msft.sort_values(by = 'date')\n",
    "price_msft['day'] = pd.DatetimeIndex(price_msft['date']).weekday\n",
    "price_msft['year'] = pd.DatetimeIndex(price_msft['date']).year"
   ]
  },
  {
   "cell_type": "code",
   "execution_count": null,
   "metadata": {},
   "outputs": [],
   "source": [
    "fridays_2019 = price_msft[price_msft['day'] == 4]['date']\n",
    "fridays_2019.head(50)"
   ]
  },
  {
   "cell_type": "code",
   "execution_count": null,
   "metadata": {},
   "outputs": [],
   "source": [
    "price_msft"
   ]
  },
  {
   "cell_type": "code",
   "execution_count": null,
   "metadata": {},
   "outputs": [],
   "source": []
  }
 ],
 "metadata": {
  "kernelspec": {
   "display_name": "Python 3",
   "language": "python",
   "name": "python3"
  },
  "language_info": {
   "codemirror_mode": {
    "name": "ipython",
    "version": 3
   },
   "file_extension": ".py",
   "mimetype": "text/x-python",
   "name": "python",
   "nbconvert_exporter": "python",
   "pygments_lexer": "ipython3",
   "version": "3.7.4"
  }
 },
 "nbformat": 4,
 "nbformat_minor": 4
}
